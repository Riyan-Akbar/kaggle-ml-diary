{
 "cells": [
  {
   "cell_type": "markdown",
   "id": "303adabd",
   "metadata": {},
   "source": [
    "The most important part of the Pandas library is the DataFrame. A DataFrame holds the type of data you might think of as a table. This is similar to a sheet in Excel, or a table in a SQL database.\n",
    "\n",
    "Pandas has powerful methods for most things you'll want to do with this type of data.\n",
    "\n",
    "Here importing pandas as pd means renaming the function.\n",
    "\n",
    "The example (Melbourne) data is at the file path ../input/melbourne-housing-snapshot/melb_data.csv.\n",
    "\n",
    "We load and explore the data with the following commands:\n",
    "\n",
    "count,mean,std,min,std,25%,50%,75%,max -----> using the <file_name>.describe() function"
   ]
  },
  {
   "cell_type": "code",
   "execution_count": 2,
   "id": "1da450ad",
   "metadata": {},
   "outputs": [
    {
     "data": {
      "text/plain": [
       "\" <----- remove these (both top and bottom to uncomment)\\nimport pandas as pd\\n# save filepath to variable for easier access\\nmelbourne_file_path = 'your <melb_data.csv> path directory where your saved your dataset file from the dataset provided in this repo'\\n# read the data and store data in DataFrame titled melbourne_data\\nmelbourne_data = pd.read_csv(melbourne_file_path) \\n# print a summary of the data in Melbourne data\\nmelbourne_data.describe()\\n\\n\""
      ]
     },
     "execution_count": 2,
     "metadata": {},
     "output_type": "execute_result"
    }
   ],
   "source": [
    "\"\"\" <----- remove these (both top and bottom to uncomment)\n",
    "import pandas as pd\n",
    "# save filepath to variable for easier access\n",
    "melbourne_file_path = 'your <melb_data.csv> path directory where your saved your dataset file from the dataset provided in this repo'\n",
    "# read the data and store data in DataFrame titled melbourne_data\n",
    "melbourne_data = pd.read_csv(melbourne_file_path) \n",
    "# print a summary of the data in Melbourne data\n",
    "melbourne_data.describe()\n",
    "\n",
    "\"\"\"\n"
   ]
  }
 ],
 "metadata": {
  "kernelspec": {
   "display_name": "Python 3",
   "language": "python",
   "name": "python3"
  },
  "language_info": {
   "codemirror_mode": {
    "name": "ipython",
    "version": 3
   },
   "file_extension": ".py",
   "mimetype": "text/x-python",
   "name": "python",
   "nbconvert_exporter": "python",
   "pygments_lexer": "ipython3",
   "version": "3.12.5"
  }
 },
 "nbformat": 4,
 "nbformat_minor": 5
}
